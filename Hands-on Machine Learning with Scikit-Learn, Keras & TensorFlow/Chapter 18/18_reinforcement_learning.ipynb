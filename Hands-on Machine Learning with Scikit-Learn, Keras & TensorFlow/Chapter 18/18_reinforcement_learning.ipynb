{
  "nbformat": 4,
  "nbformat_minor": 0,
  "metadata": {
    "colab": {
      "provenance": [],
      "gpuType": "T4",
      "authorship_tag": "ABX9TyN1zopkCOiaToXzbUGnQJJ0",
      "include_colab_link": true
    },
    "kernelspec": {
      "name": "python3",
      "display_name": "Python 3"
    },
    "language_info": {
      "name": "python"
    },
    "accelerator": "GPU"
  },
  "cells": [
    {
      "cell_type": "markdown",
      "metadata": {
        "id": "view-in-github",
        "colab_type": "text"
      },
      "source": [
        "<a href=\"https://colab.research.google.com/github/hsnbnaa/deep-learning-is-easy/blob/main/Hands-on%20Machine%20Learning%20with%20Scikit-Learn%2C%20Keras%20%26%20TensorFlow/Chapter%2018/18_reinforcement_learning.ipynb\" target=\"_parent\"><img src=\"https://colab.research.google.com/assets/colab-badge.svg\" alt=\"Open In Colab\"/></a>"
      ]
    },
    {
      "cell_type": "code",
      "execution_count": 1,
      "metadata": {
        "colab": {
          "base_uri": "https://localhost:8080/"
        },
        "id": "mjJHfsKEIEkA",
        "outputId": "155a16aa-66c2-47b2-ddf6-b32dd59ff2ee"
      },
      "outputs": [
        {
          "output_type": "stream",
          "name": "stdout",
          "text": [
            "Total reward: 11.0\n"
          ]
        }
      ],
      "source": [
        "import gymnasium as gym\n",
        "\n",
        "# Membuat lingkungan\n",
        "env = gym.make(\"CartPole-v1\", render_mode=\"human\")  # Gunakan render_mode=\"human\" untuk melihat visualisasi\n",
        "\n",
        "# Reset ke state awal\n",
        "obs, info = env.reset()\n",
        "done = False\n",
        "truncated = False\n",
        "total_reward = 0\n",
        "\n",
        "while not (done or truncated):\n",
        "    # Pilih aksi (di sini aksi acak, bisa diganti dengan strategi atau model RL)\n",
        "    action = env.action_space.sample()  # Aksi random (0 = kiri, 1 = kanan)\n",
        "\n",
        "    # Ambil langkah di lingkungan\n",
        "    obs, reward, done, truncated, info = env.step(action)\n",
        "\n",
        "    total_reward += reward\n",
        "\n",
        "# Tutup lingkungan setelah selesai\n",
        "env.close()\n",
        "\n",
        "print(\"Total reward:\", total_reward)\n"
      ]
    },
    {
      "cell_type": "code",
      "source": [
        "import tensorflow as tf\n",
        "from tensorflow import keras\n",
        "\n",
        "# Contoh arsitektur Policy Network sederhana\n",
        "n_inputs = 4 # Untuk CartPole (posisi, kecepatan, sudut, kecepatan sudut)\n",
        "n_outputs = 2 # Untuk CartPole (dorong kiri atau kanan)\n",
        "\n",
        "model = keras.models.Sequential([\n",
        "    keras.layers.Dense(32, activation=\"elu\", input_shape=[n_inputs]),\n",
        "    keras.layers.Dense(32, activation=\"elu\"),\n",
        "    keras.layers.Dense(n_outputs, activation=\"softmax\"), # Output probabilitas untuk setiap aksi\n",
        "])"
      ],
      "metadata": {
        "colab": {
          "base_uri": "https://localhost:8080/"
        },
        "id": "jRqAI-y4IS36",
        "outputId": "65b01a2d-c847-4b01-edb9-e5b267d9a61d"
      },
      "execution_count": 2,
      "outputs": [
        {
          "output_type": "stream",
          "name": "stderr",
          "text": [
            "/usr/local/lib/python3.11/dist-packages/keras/src/layers/core/dense.py:87: UserWarning: Do not pass an `input_shape`/`input_dim` argument to a layer. When using Sequential models, prefer using an `Input(shape)` object as the first layer in the model instead.\n",
            "  super().__init__(activity_regularizer=activity_regularizer, **kwargs)\n"
          ]
        }
      ]
    },
    {
      "cell_type": "code",
      "source": [
        "import gymnasium as gym\n",
        "import matplotlib.pyplot as plt\n",
        "\n",
        "# Membuat lingkungan dan meresetnya\n",
        "env = gym.make(\"CartPole-v1\", render_mode=\"rgb_array\")\n",
        "obs, info = env.reset(seed=42)\n",
        "\n",
        "# Merender satu frame dari lingkungan\n",
        "img = env.render()\n",
        "\n",
        "# Menampilkan frame menggunakan matplotlib\n",
        "plt.figure(figsize=(6, 4))\n",
        "plt.imshow(img)\n",
        "plt.axis(\"off\")\n",
        "plt.title(\"Render Lingkungan CartPole\")\n",
        "plt.show()\n",
        "\n",
        "env.close()"
      ],
      "metadata": {
        "colab": {
          "base_uri": "https://localhost:8080/",
          "height": 367
        },
        "id": "9SIywWO3IXbm",
        "outputId": "ff1bae10-4ae5-4ff9-8ac6-31513240845e"
      },
      "execution_count": 3,
      "outputs": [
        {
          "output_type": "display_data",
          "data": {
            "text/plain": [
              "<Figure size 600x400 with 1 Axes>"
            ],
            "image/png": "[encoded data removed]"
          },
          "metadata": {}
        }
      ]
    },
    {
      "cell_type": "code",
      "source": [
        "import tensorflow as tf\n",
        "from tensorflow import keras\n",
        "import numpy as np\n",
        "import gymnasium as gym\n",
        "import matplotlib.pyplot as plt\n",
        "\n",
        "# --- 1. Helper functions ---\n",
        "\n",
        "def play_one_step(env, obs, model, loss_fn):\n",
        "    with tf.GradientTape() as tape:\n",
        "        obs_input = tf.expand_dims(obs, axis=0)\n",
        "        logits = model(obs_input)\n",
        "        action = tf.random.categorical(logits, num_samples=1)[0, 0]\n",
        "        y_true = tf.one_hot([action], depth=env.action_space.n)\n",
        "        loss = tf.reduce_mean(loss_fn(y_true, logits))\n",
        "    grads = tape.gradient(loss, model.trainable_variables)\n",
        "    obs, reward, done, truncated, info = env.step(int(action))\n",
        "    return obs, reward, done, truncated, grads\n",
        "\n",
        "def play_multiple_episodes(env, n_episodes, n_max_steps, model, loss_fn):\n",
        "    all_rewards = []\n",
        "    all_grads = []\n",
        "    for episode in range(n_episodes):\n",
        "        obs, _ = env.reset()\n",
        "        episode_rewards = []\n",
        "        episode_grads = []\n",
        "        for step in range(n_max_steps):\n",
        "            obs, reward, done, truncated, grads = play_one_step(env, obs, model, loss_fn)\n",
        "            episode_rewards.append(reward)\n",
        "            episode_grads.append(grads)\n",
        "            if done or truncated:\n",
        "                break\n",
        "        all_rewards.append(episode_rewards)\n",
        "        all_grads.append(episode_grads)\n",
        "    return all_rewards, all_grads\n",
        "\n",
        "def discount_rewards(rewards, discount_factor=0.95):\n",
        "    discounted = np.zeros_like(rewards, dtype=np.float32)\n",
        "    cumulative = 0\n",
        "    for step in reversed(range(len(rewards))):\n",
        "        cumulative = rewards[step] + cumulative * discount_factor\n",
        "        discounted[step] = cumulative\n",
        "    return discounted\n",
        "\n",
        "def discount_and_normalize_rewards(all_rewards, discount_factor=0.95):\n",
        "    all_discounted = [discount_rewards(rewards, discount_factor) for rewards in all_rewards]\n",
        "    flat_rewards = np.concatenate(all_discounted)\n",
        "    mean = np.mean(flat_rewards)\n",
        "    std = np.std(flat_rewards)\n",
        "    return [(rewards - mean) / (std + 1e-8) for rewards in all_discounted]"
      ],
      "metadata": {
        "id": "kTswHjxeIZYo"
      },
      "execution_count": 4,
      "outputs": []
    },
    {
      "cell_type": "code",
      "source": [
        "# --- 2. Policy model, loss, optimizer ---\n",
        "\n",
        "env = gym.make(\"CartPole-v1\")\n",
        "n_inputs = env.observation_space.shape[0]\n",
        "n_outputs = env.action_space.n\n",
        "\n",
        "model = keras.models.Sequential([\n",
        "    keras.layers.Dense(32, activation=\"relu\", input_shape=[n_inputs]),\n",
        "    keras.layers.Dense(n_outputs)\n",
        "])\n",
        "\n",
        "loss_fn = keras.losses.CategoricalCrossentropy(from_logits=True)\n",
        "optimizer = keras.optimizers.Adam(learning_rate=0.01)\n"
      ],
      "metadata": {
        "id": "Wm5lrEjVI4KT"
      },
      "execution_count": 5,
      "outputs": []
    },
    {
      "cell_type": "code",
      "source": [
        "# --- 3. Training loop ---\n",
        "\n",
        "n_iterations = 10\n",
        "n_episodes_per_update = 10\n",
        "n_max_steps = 200\n",
        "discount_factor = 0.95\n",
        "all_mean_rewards = []\n",
        "\n",
        "for iteration in range(n_iterations):\n",
        "    all_rewards, all_grads = play_multiple_episodes(\n",
        "        env, n_episodes_per_update, n_max_steps, model, loss_fn\n",
        "    )\n",
        "    all_final_rewards = discount_and_normalize_rewards(all_rewards, discount_factor)\n",
        "\n",
        "    # Terapkan rata-rata gradien berbobot reward\n",
        "    mean_grads = []\n",
        "    for var_index in range(len(model.trainable_variables)):\n",
        "        mean_grads.append(\n",
        "            tf.reduce_mean([\n",
        "                final_reward[step] * all_grads[episode][step][var_index]\n",
        "                for episode, final_reward in enumerate(all_final_rewards)\n",
        "                for step in range(len(final_reward))\n",
        "            ], axis=0)\n",
        "        )\n",
        "\n",
        "    optimizer.apply_gradients(zip(mean_grads, model.trainable_variables))\n",
        "\n",
        "    # Logging\n",
        "    total_rewards = [sum(rewards) for rewards in all_rewards]\n",
        "    mean_reward = np.mean(total_rewards)\n",
        "    all_mean_rewards.append(mean_reward)\n",
        "    print(f\"Iteration {iteration + 1}: mean reward = {mean_reward:.2f}\")\n",
        "\n",
        "env.close()"
      ],
      "metadata": {
        "colab": {
          "base_uri": "https://localhost:8080/"
        },
        "id": "B8N-IlkdI2hp",
        "outputId": "07805e95-cfe9-4fd7-a390-3522fdcd6fc4"
      },
      "execution_count": 9,
      "outputs": [
        {
          "output_type": "stream",
          "name": "stdout",
          "text": [
            "Iteration 1: mean reward = 25.00\n",
            "Iteration 2: mean reward = 37.50\n",
            "Iteration 3: mean reward = 31.60\n",
            "Iteration 4: mean reward = 33.30\n",
            "Iteration 5: mean reward = 40.50\n",
            "Iteration 6: mean reward = 55.00\n",
            "Iteration 7: mean reward = 65.00\n",
            "Iteration 8: mean reward = 51.70\n",
            "Iteration 9: mean reward = 85.00\n",
            "Iteration 10: mean reward = 87.40\n"
          ]
        }
      ]
    },
    {
      "cell_type": "code",
      "source": [
        "# --- 4. Plotting ---\n",
        "\n",
        "plt.figure(figsize=(8, 4))\n",
        "plt.plot(all_mean_rewards)\n",
        "plt.xlabel(\"Iteration\")\n",
        "plt.ylabel(\"Mean Total Reward\")\n",
        "plt.title(\"Kurva Belajar: Total Reward per Iterasi\")\n",
        "plt.grid(True)\n",
        "plt.show()"
      ],
      "metadata": {
        "colab": {
          "base_uri": "https://localhost:8080/",
          "height": 410
        },
        "id": "9vcd9_NxI0mn",
        "outputId": "7b117dd2-5b39-4ec1-9e65-1fa00c17e7eb"
      },
      "execution_count": 10,
      "outputs": [
        {
          "output_type": "display_data",
          "data": {
            "text/plain": [
              "<Figure size 800x400 with 1 Axes>"
            ],
            "image/png": "[encoded data removed]"
          },
          "metadata": {}
        }
      ]
    },
    {
      "cell_type": "code",
      "source": [],
      "metadata": {
        "id": "7uzx7qDDI8q5"
      },
      "execution_count": null,
      "outputs": []
    }
  ]
}